{
  "nbformat": 4,
  "nbformat_minor": 0,
  "metadata": {
    "colab": {
      "name": "Har_deeplearning_lstm.ipynb",
      "provenance": []
    },
    "kernelspec": {
      "name": "python3",
      "display_name": "Python 3"
    }
  },
  "cells": [
    {
      "cell_type": "code",
      "metadata": {
        "id": "KUwupnu7iski",
        "colab_type": "code",
        "colab": {}
      },
      "source": [
        "import pandas as pd\n",
        "import numpy as np"
      ],
      "execution_count": 0,
      "outputs": []
    },
    {
      "cell_type": "code",
      "metadata": {
        "id": "YCD1rN0-p-4b",
        "colab_type": "code",
        "colab": {}
      },
      "source": [
        "# Activities are the class labels\n",
        "# It is a 6 class classification\n",
        "ACTIVITIES = {\n",
        "    0: 'WALKING',\n",
        "    1: 'WALKING_UPSTAIRS',\n",
        "    2: 'WALKING_DOWNSTAIRS',\n",
        "    3: 'SITTING',\n",
        "    4: 'STANDING',\n",
        "    5: 'LAYING',\n",
        "}"
      ],
      "execution_count": 0,
      "outputs": []
    },
    {
      "cell_type": "code",
      "metadata": {
        "id": "nNafORCxp_Xr",
        "colab_type": "code",
        "colab": {}
      },
      "source": [
        "def confusion_matrix(Y_true, Y_pred):\n",
        "    Y_true = pd.Series([ACTIVITIES[y] for y in np.argmax(Y_true, axis=1)])\n",
        "    Y_pred = pd.Series([ACTIVITIES[y] for y in np.argmax(Y_pred, axis=1)])\n",
        "\n",
        "    return pd.crosstab(Y_true, Y_pred, rownames=['True'], colnames=['Pred'])"
      ],
      "execution_count": 0,
      "outputs": []
    },
    {
      "cell_type": "code",
      "metadata": {
        "id": "3AaeJjjmqBOM",
        "colab_type": "code",
        "colab": {}
      },
      "source": [
        "SIGNALS = [\n",
        "    \"body_acc_x\",\n",
        "    \"body_acc_y\",\n",
        "    \"body_acc_z\",\n",
        "    \"body_gyro_x\",\n",
        "    \"body_gyro_y\",\n",
        "    \"body_gyro_z\",\n",
        "    \"total_acc_x\",\n",
        "    \"total_acc_y\",\n",
        "    \"total_acc_z\"\n",
        "]"
      ],
      "execution_count": 0,
      "outputs": []
    },
    {
      "cell_type": "code",
      "metadata": {
        "id": "9kRwNBvJqG4b",
        "colab_type": "code",
        "colab": {}
      },
      "source": [
        "def _read_csv(filename):\n",
        "    return pd.read_csv(filename, delim_whitespace=True, header=None)\n",
        "\n",
        "# Utility function to load the load\n",
        "def load_signals(subset):\n",
        "    signals_data = []\n",
        "\n",
        "    for signal in SIGNALS:\n",
        "        filename = f'/content/drive/My Drive/HAR/UCI_HAR_Dataset/{subset}/Inertial Signals/{signal}_{subset}.txt'\n",
        "        signals_data.append(\n",
        "            _read_csv(filename).as_matrix()\n",
        "        ) \n",
        "\n",
        "    # Transpose is used to change the dimensionality of the output,\n",
        "    # aggregating the signals by combination of sample/timestep.\n",
        "    # Resultant shape is (7352 train/2947 test samples, 128 timesteps, 9 signals)\n",
        "    return np.transpose(signals_data, (1, 2, 0))"
      ],
      "execution_count": 0,
      "outputs": []
    },
    {
      "cell_type": "code",
      "metadata": {
        "id": "9TtzkFDiqYx-",
        "colab_type": "code",
        "colab": {}
      },
      "source": [
        "def load_y(subset):\n",
        "    \"\"\"\n",
        "    The objective that we are trying to predict is a integer, from 1 to 6,\n",
        "    that represents a human activity. We return a binary representation of \n",
        "    every sample objective as a 6 bits vector using One Hot Encoding\n",
        "    (https://pandas.pydata.org/pandas-docs/stable/generated/pandas.get_dummies.html)\n",
        "    \"\"\"\n",
        "    filename = f'/content/drive/My Drive/HAR/UCI_HAR_Dataset/{subset}/y_{subset}.txt'\n",
        "    y = _read_csv(filename)[0]\n",
        "\n",
        "    return pd.get_dummies(y).as_matrix()"
      ],
      "execution_count": 0,
      "outputs": []
    },
    {
      "cell_type": "code",
      "metadata": {
        "id": "dvqSIBfXqkQ4",
        "colab_type": "code",
        "colab": {}
      },
      "source": [
        "def load_data():\n",
        "    \"\"\"\n",
        "    Obtain the dataset from multiple files.\n",
        "    Returns: X_train, X_test, y_train, y_test\n",
        "    \"\"\"\n",
        "    X_train, X_test = load_signals('train'), load_signals('test')\n",
        "    y_train, y_test = load_y('train'), load_y('test')\n",
        "\n",
        "    return X_train, X_test, y_train, y_test"
      ],
      "execution_count": 0,
      "outputs": []
    },
    {
      "cell_type": "code",
      "metadata": {
        "id": "yiEO3dOWqkVu",
        "colab_type": "code",
        "colab": {}
      },
      "source": [
        "session_conf = tf.ConfigProto(\n",
        "    intra_op_parallelism_threads=1,\n",
        "    inter_op_parallelism_threads=1\n",
        ")"
      ],
      "execution_count": 0,
      "outputs": []
    },
    {
      "cell_type": "code",
      "metadata": {
        "id": "zTKcXoAGqkUL",
        "colab_type": "code",
        "colab": {}
      },
      "source": [
        "from keras import backend as K\n",
        "sess = tf.Session(graph=tf.get_default_graph(), config=session_conf)\n",
        "K.set_session(sess)"
      ],
      "execution_count": 0,
      "outputs": []
    },
    {
      "cell_type": "code",
      "metadata": {
        "id": "3NWobvoCqsjN",
        "colab_type": "code",
        "colab": {}
      },
      "source": [
        "from keras.models import Sequential\n",
        "from keras.layers import LSTM\n",
        "from keras.layers.core import Dense, Dropout"
      ],
      "execution_count": 0,
      "outputs": []
    },
    {
      "cell_type": "code",
      "metadata": {
        "id": "8h68HiPEquHx",
        "colab_type": "code",
        "colab": {}
      },
      "source": [
        "epochs = 30\n",
        "batch_size = 16\n",
        "n_hidden = 32"
      ],
      "execution_count": 0,
      "outputs": []
    },
    {
      "cell_type": "code",
      "metadata": {
        "id": "ObQP_6oQqvXs",
        "colab_type": "code",
        "colab": {}
      },
      "source": [
        "def _count_classes(y):\n",
        "    return len(set([tuple(category) for category in y]))"
      ],
      "execution_count": 0,
      "outputs": []
    },
    {
      "cell_type": "code",
      "metadata": {
        "id": "kTNNTIGuqwq2",
        "colab_type": "code",
        "outputId": "7ef35cd4-6c42-406a-d915-d8a212c33287",
        "colab": {
          "base_uri": "https://localhost:8080/",
          "height": 71
        }
      },
      "source": [
        "X_train, X_test, Y_train, Y_test = load_data()"
      ],
      "execution_count": 28,
      "outputs": [
        {
          "output_type": "stream",
          "text": [
            "/usr/local/lib/python3.6/dist-packages/ipykernel_launcher.py:11: FutureWarning: Method .as_matrix will be removed in a future version. Use .values instead.\n",
            "  # This is added back by InteractiveShellApp.init_path()\n"
          ],
          "name": "stderr"
        }
      ]
    },
    {
      "cell_type": "code",
      "metadata": {
        "id": "cGDMgUxiqzgY",
        "colab_type": "code",
        "colab": {
          "base_uri": "https://localhost:8080/",
          "height": 68
        },
        "outputId": "679a889e-109f-4779-d2ba-964cdbadeecf"
      },
      "source": [
        "timesteps = len(X_train[0])\n",
        "input_dim = len(X_train[0][0])\n",
        "n_classes = _count_classes(Y_train)\n",
        "\n",
        "print(timesteps)\n",
        "print(input_dim)\n",
        "print(len(X_train))"
      ],
      "execution_count": 29,
      "outputs": [
        {
          "output_type": "stream",
          "text": [
            "128\n",
            "9\n",
            "7352\n"
          ],
          "name": "stdout"
        }
      ]
    },
    {
      "cell_type": "code",
      "metadata": {
        "id": "H9Qr4eYVq66J",
        "colab_type": "code",
        "colab": {
          "base_uri": "https://localhost:8080/",
          "height": 428
        },
        "outputId": "e873b7d1-17bd-4707-e9fa-38150cb9eabb"
      },
      "source": [
        "# Initiliazing the sequential model\n",
        "model = Sequential()\n",
        "# Configuring the parameters\n",
        "model.add(LSTM(n_hidden, input_shape=(timesteps, input_dim)))\n",
        "# Adding a dropout layer\n",
        "model.add(Dropout(0.5))\n",
        "# Adding a dense output layer with sigmoid activation\n",
        "model.add(Dense(n_classes, activation='sigmoid'))\n",
        "model.summary()"
      ],
      "execution_count": 30,
      "outputs": [
        {
          "output_type": "stream",
          "text": [
            "WARNING:tensorflow:From /usr/local/lib/python3.6/dist-packages/keras/backend/tensorflow_backend.py:541: The name tf.placeholder is deprecated. Please use tf.compat.v1.placeholder instead.\n",
            "\n",
            "WARNING:tensorflow:From /usr/local/lib/python3.6/dist-packages/keras/backend/tensorflow_backend.py:4432: The name tf.random_uniform is deprecated. Please use tf.random.uniform instead.\n",
            "\n",
            "WARNING:tensorflow:From /usr/local/lib/python3.6/dist-packages/keras/backend/tensorflow_backend.py:148: The name tf.placeholder_with_default is deprecated. Please use tf.compat.v1.placeholder_with_default instead.\n",
            "\n",
            "WARNING:tensorflow:From /usr/local/lib/python3.6/dist-packages/keras/backend/tensorflow_backend.py:3733: calling dropout (from tensorflow.python.ops.nn_ops) with keep_prob is deprecated and will be removed in a future version.\n",
            "Instructions for updating:\n",
            "Please use `rate` instead of `keep_prob`. Rate should be set to `rate = 1 - keep_prob`.\n",
            "Model: \"sequential_1\"\n",
            "_________________________________________________________________\n",
            "Layer (type)                 Output Shape              Param #   \n",
            "=================================================================\n",
            "lstm_1 (LSTM)                (None, 32)                5376      \n",
            "_________________________________________________________________\n",
            "dropout_1 (Dropout)          (None, 32)                0         \n",
            "_________________________________________________________________\n",
            "dense_1 (Dense)              (None, 6)                 198       \n",
            "=================================================================\n",
            "Total params: 5,574\n",
            "Trainable params: 5,574\n",
            "Non-trainable params: 0\n",
            "_________________________________________________________________\n"
          ],
          "name": "stdout"
        }
      ]
    },
    {
      "cell_type": "code",
      "metadata": {
        "id": "0sneLZEgq75O",
        "colab_type": "code",
        "colab": {
          "base_uri": "https://localhost:8080/",
          "height": 105
        },
        "outputId": "68fc74e2-88d4-478c-a6b4-e1f43475ccff"
      },
      "source": [
        "model.compile(loss='categorical_crossentropy',\n",
        "              optimizer='rmsprop',\n",
        "              metrics=['accuracy'])"
      ],
      "execution_count": 31,
      "outputs": [
        {
          "output_type": "stream",
          "text": [
            "WARNING:tensorflow:From /usr/local/lib/python3.6/dist-packages/keras/optimizers.py:793: The name tf.train.Optimizer is deprecated. Please use tf.compat.v1.train.Optimizer instead.\n",
            "\n",
            "WARNING:tensorflow:From /usr/local/lib/python3.6/dist-packages/keras/backend/tensorflow_backend.py:3576: The name tf.log is deprecated. Please use tf.math.log instead.\n",
            "\n"
          ],
          "name": "stdout"
        }
      ]
    },
    {
      "cell_type": "code",
      "metadata": {
        "id": "nNZ75LfTq6_j",
        "colab_type": "code",
        "colab": {
          "base_uri": "https://localhost:8080/",
          "height": 1000
        },
        "outputId": "f1eb9eaa-7ee2-4fb0-ab21-459b61f530fe"
      },
      "source": [
        "# Training the model\n",
        "model.fit(X_train,\n",
        "          Y_train,\n",
        "          batch_size=batch_size,\n",
        "          validation_data=(X_test, Y_test),\n",
        "          epochs=epochs)"
      ],
      "execution_count": 32,
      "outputs": [
        {
          "output_type": "stream",
          "text": [
            "WARNING:tensorflow:From /usr/local/lib/python3.6/dist-packages/tensorflow_core/python/ops/math_grad.py:1424: where (from tensorflow.python.ops.array_ops) is deprecated and will be removed in a future version.\n",
            "Instructions for updating:\n",
            "Use tf.where in 2.0, which has the same broadcast rule as np.where\n",
            "WARNING:tensorflow:From /usr/local/lib/python3.6/dist-packages/keras/backend/tensorflow_backend.py:1033: The name tf.assign_add is deprecated. Please use tf.compat.v1.assign_add instead.\n",
            "\n",
            "WARNING:tensorflow:From /usr/local/lib/python3.6/dist-packages/keras/backend/tensorflow_backend.py:1020: The name tf.assign is deprecated. Please use tf.compat.v1.assign instead.\n",
            "\n",
            "Train on 7352 samples, validate on 2947 samples\n",
            "Epoch 1/30\n",
            "WARNING:tensorflow:From /usr/local/lib/python3.6/dist-packages/keras/backend/tensorflow_backend.py:190: The name tf.get_default_session is deprecated. Please use tf.compat.v1.get_default_session instead.\n",
            "\n",
            "WARNING:tensorflow:From /usr/local/lib/python3.6/dist-packages/keras/backend/tensorflow_backend.py:207: The name tf.global_variables is deprecated. Please use tf.compat.v1.global_variables instead.\n",
            "\n",
            "WARNING:tensorflow:From /usr/local/lib/python3.6/dist-packages/keras/backend/tensorflow_backend.py:216: The name tf.is_variable_initialized is deprecated. Please use tf.compat.v1.is_variable_initialized instead.\n",
            "\n",
            "WARNING:tensorflow:From /usr/local/lib/python3.6/dist-packages/keras/backend/tensorflow_backend.py:223: The name tf.variables_initializer is deprecated. Please use tf.compat.v1.variables_initializer instead.\n",
            "\n",
            "7352/7352 [==============================] - 36s 5ms/step - loss: 1.3302 - acc: 0.4355 - val_loss: 1.1487 - val_acc: 0.4771\n",
            "Epoch 2/30\n",
            "7352/7352 [==============================] - 34s 5ms/step - loss: 0.9765 - acc: 0.5756 - val_loss: 0.9072 - val_acc: 0.5931\n",
            "Epoch 3/30\n",
            "7352/7352 [==============================] - 34s 5ms/step - loss: 0.7886 - acc: 0.6498 - val_loss: 0.7632 - val_acc: 0.6074\n",
            "Epoch 4/30\n",
            "7352/7352 [==============================] - 33s 5ms/step - loss: 0.7895 - acc: 0.6344 - val_loss: 0.7456 - val_acc: 0.6138\n",
            "Epoch 5/30\n",
            "7352/7352 [==============================] - 34s 5ms/step - loss: 0.6849 - acc: 0.6746 - val_loss: 0.6821 - val_acc: 0.6580\n",
            "Epoch 6/30\n",
            "7352/7352 [==============================] - 33s 5ms/step - loss: 0.6060 - acc: 0.7107 - val_loss: 0.6850 - val_acc: 0.7106\n",
            "Epoch 7/30\n",
            "7352/7352 [==============================] - 34s 5ms/step - loss: 0.5554 - acc: 0.7563 - val_loss: 0.6822 - val_acc: 0.7218\n",
            "Epoch 8/30\n",
            "7352/7352 [==============================] - 34s 5ms/step - loss: 0.5183 - acc: 0.7743 - val_loss: 0.6261 - val_acc: 0.7343\n",
            "Epoch 9/30\n",
            "7352/7352 [==============================] - 34s 5ms/step - loss: 0.4716 - acc: 0.7795 - val_loss: 0.6312 - val_acc: 0.7055\n",
            "Epoch 10/30\n",
            "7352/7352 [==============================] - 34s 5ms/step - loss: 0.4227 - acc: 0.8013 - val_loss: 0.5716 - val_acc: 0.7329\n",
            "Epoch 11/30\n",
            "7352/7352 [==============================] - 34s 5ms/step - loss: 0.4029 - acc: 0.8143 - val_loss: 0.5789 - val_acc: 0.7788\n",
            "Epoch 12/30\n",
            "7352/7352 [==============================] - 34s 5ms/step - loss: 0.3750 - acc: 0.8368 - val_loss: 0.5140 - val_acc: 0.8154\n",
            "Epoch 13/30\n",
            "7352/7352 [==============================] - 34s 5ms/step - loss: 0.3547 - acc: 0.8783 - val_loss: 0.5327 - val_acc: 0.8521\n",
            "Epoch 14/30\n",
            "7352/7352 [==============================] - 34s 5ms/step - loss: 0.2928 - acc: 0.9142 - val_loss: 0.5803 - val_acc: 0.8653\n",
            "Epoch 15/30\n",
            "7352/7352 [==============================] - 34s 5ms/step - loss: 0.2463 - acc: 0.9221 - val_loss: 0.4122 - val_acc: 0.8924\n",
            "Epoch 16/30\n",
            "7352/7352 [==============================] - 35s 5ms/step - loss: 0.3697 - acc: 0.9110 - val_loss: 1.1974 - val_acc: 0.7102\n",
            "Epoch 17/30\n",
            "7352/7352 [==============================] - 34s 5ms/step - loss: 0.3163 - acc: 0.9064 - val_loss: 0.6174 - val_acc: 0.8415\n",
            "Epoch 18/30\n",
            "7352/7352 [==============================] - 34s 5ms/step - loss: 0.2553 - acc: 0.9279 - val_loss: 0.5050 - val_acc: 0.8819\n",
            "Epoch 19/30\n",
            "7352/7352 [==============================] - 34s 5ms/step - loss: 0.2148 - acc: 0.9339 - val_loss: 0.4243 - val_acc: 0.8914\n",
            "Epoch 20/30\n",
            "7352/7352 [==============================] - 34s 5ms/step - loss: 0.2291 - acc: 0.9362 - val_loss: 0.4491 - val_acc: 0.8904\n",
            "Epoch 21/30\n",
            "7352/7352 [==============================] - 34s 5ms/step - loss: 0.2082 - acc: 0.9385 - val_loss: 0.3831 - val_acc: 0.8890\n",
            "Epoch 22/30\n",
            "7352/7352 [==============================] - 34s 5ms/step - loss: 0.1953 - acc: 0.9427 - val_loss: 0.4300 - val_acc: 0.8948\n",
            "Epoch 23/30\n",
            "7352/7352 [==============================] - 34s 5ms/step - loss: 0.2851 - acc: 0.9334 - val_loss: 0.5657 - val_acc: 0.8931\n",
            "Epoch 24/30\n",
            "7352/7352 [==============================] - 34s 5ms/step - loss: 0.1713 - acc: 0.9457 - val_loss: 0.4901 - val_acc: 0.8955\n",
            "Epoch 25/30\n",
            "7352/7352 [==============================] - 35s 5ms/step - loss: 0.1703 - acc: 0.9446 - val_loss: 0.5263 - val_acc: 0.8924\n",
            "Epoch 26/30\n",
            "7352/7352 [==============================] - 33s 5ms/step - loss: 0.1696 - acc: 0.9461 - val_loss: 0.4127 - val_acc: 0.8924\n",
            "Epoch 27/30\n",
            "7352/7352 [==============================] - 34s 5ms/step - loss: 0.1647 - acc: 0.9470 - val_loss: 0.6205 - val_acc: 0.8826\n",
            "Epoch 28/30\n",
            "7352/7352 [==============================] - 34s 5ms/step - loss: 0.1811 - acc: 0.9445 - val_loss: 0.4766 - val_acc: 0.8968\n",
            "Epoch 29/30\n",
            "7352/7352 [==============================] - 34s 5ms/step - loss: 0.1870 - acc: 0.9455 - val_loss: 0.4033 - val_acc: 0.8928\n",
            "Epoch 30/30\n",
            "7352/7352 [==============================] - 34s 5ms/step - loss: 0.1672 - acc: 0.9450 - val_loss: 0.4782 - val_acc: 0.8975\n"
          ],
          "name": "stdout"
        },
        {
          "output_type": "execute_result",
          "data": {
            "text/plain": [
              "<keras.callbacks.History at 0x7fac85a035c0>"
            ]
          },
          "metadata": {
            "tags": []
          },
          "execution_count": 32
        }
      ]
    },
    {
      "cell_type": "code",
      "metadata": {
        "id": "1piw1Ri1q69g",
        "colab_type": "code",
        "colab": {
          "base_uri": "https://localhost:8080/",
          "height": 187
        },
        "outputId": "17d78c28-93b2-4038-c128-40e9dccecf19"
      },
      "source": [
        "# Confusion Matrix\n",
        "print(confusion_matrix(Y_test, model.predict(X_test)))"
      ],
      "execution_count": 33,
      "outputs": [
        {
          "output_type": "stream",
          "text": [
            "Pred                LAYING  SITTING  ...  WALKING_DOWNSTAIRS  WALKING_UPSTAIRS\n",
            "True                                 ...                                      \n",
            "LAYING                 510        0  ...                   0                16\n",
            "SITTING                  0      382  ...                   2                 1\n",
            "STANDING                 0       92  ...                   0                 0\n",
            "WALKING                  0        0  ...                  27                 1\n",
            "WALKING_DOWNSTAIRS       0        0  ...                 413                 5\n",
            "WALKING_UPSTAIRS         0        0  ...                  22               436\n",
            "\n",
            "[6 rows x 6 columns]\n"
          ],
          "name": "stdout"
        }
      ]
    },
    {
      "cell_type": "code",
      "metadata": {
        "id": "tVK8L5lrrES_",
        "colab_type": "code",
        "colab": {
          "base_uri": "https://localhost:8080/",
          "height": 34
        },
        "outputId": "5249fd53-6c10-4095-ba24-92d23edec6a8"
      },
      "source": [
        "score = model.evaluate(X_test, Y_test)"
      ],
      "execution_count": 34,
      "outputs": [
        {
          "output_type": "stream",
          "text": [
            "2947/2947 [==============================] - 1s 380us/step\n"
          ],
          "name": "stdout"
        }
      ]
    },
    {
      "cell_type": "code",
      "metadata": {
        "id": "tm8LfAtFrEXK",
        "colab_type": "code",
        "colab": {
          "base_uri": "https://localhost:8080/",
          "height": 34
        },
        "outputId": "a33ae28c-ec5d-4381-a20d-0512642bb884"
      },
      "source": [
        "score"
      ],
      "execution_count": 35,
      "outputs": [
        {
          "output_type": "execute_result",
          "data": {
            "text/plain": [
              "[0.4782357028465592, 0.8975229046487954]"
            ]
          },
          "metadata": {
            "tags": []
          },
          "execution_count": 35
        }
      ]
    },
    {
      "cell_type": "code",
      "metadata": {
        "id": "29clFYS38rPu",
        "colab_type": "code",
        "colab": {}
      },
      "source": [
        ""
      ],
      "execution_count": 0,
      "outputs": []
    }
  ]
}